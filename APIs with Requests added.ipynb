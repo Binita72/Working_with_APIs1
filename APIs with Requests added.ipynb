{
 "cells": [
  {
   "cell_type": "markdown",
   "metadata": {},
   "source": [
    "# Pulling data from public APIs - GET request"
   ]
  },
  {
   "cell_type": "code",
   "execution_count": 1,
   "metadata": {},
   "outputs": [],
   "source": [
    "base_url = \"https://api.exchangeratesapi.io/latest\""
   ]
  },
  {
   "cell_type": "markdown",
   "metadata": {},
   "source": [
    "# Extracting data on currency exchange rates"
   ]
  },
  {
   "cell_type": "markdown",
   "metadata": {},
   "source": [
    "## Sending a GET request"
   ]
  },
  {
   "cell_type": "code",
   "execution_count": 2,
   "metadata": {},
   "outputs": [],
   "source": [
    "import requests"
   ]
  },
  {
   "cell_type": "code",
   "execution_count": 3,
   "metadata": {},
   "outputs": [],
   "source": [
    "response = requests.get(base_url)"
   ]
  },
  {
   "cell_type": "markdown",
   "metadata": {},
   "source": [
    "## Investigating the response"
   ]
  },
  {
   "cell_type": "code",
   "execution_count": 4,
   "metadata": {},
   "outputs": [
    {
     "data": {
      "text/plain": [
       "True"
      ]
     },
     "execution_count": 4,
     "metadata": {},
     "output_type": "execute_result"
    }
   ],
   "source": [
    " response.ok"
   ]
  },
  {
   "cell_type": "code",
   "execution_count": 5,
   "metadata": {},
   "outputs": [
    {
     "data": {
      "text/plain": [
       "200"
      ]
     },
     "execution_count": 5,
     "metadata": {},
     "output_type": "execute_result"
    }
   ],
   "source": [
    "response.status_code"
   ]
  },
  {
   "cell_type": "code",
   "execution_count": 6,
   "metadata": {},
   "outputs": [
    {
     "data": {
      "text/plain": [
       "'{\"rates\":{\"CAD\":1.5331,\"HKD\":9.401,\"ISK\":152.9,\"PHP\":59.09,\"DKK\":7.4361,\"HUF\":361.43,\"CZK\":26.195,\"AUD\":1.5605,\"RON\":4.875,\"SEK\":10.1388,\"IDR\":17353.51,\"INR\":89.5766,\"BRL\":6.6644,\"RUB\":90.6697,\"HRK\":7.583,\"JPY\":128.83,\"THB\":36.799,\"CHF\":1.0986,\"SGD\":1.6106,\"PLN\":4.5186,\"BGN\":1.9558,\"TRY\":9.0168,\"CNY\":7.8385,\"NOK\":10.4012,\"NZD\":1.6622,\"ZAR\":18.1025,\"USD\":1.2121,\"MXN\":25.2879,\"ILS\":4.0072,\"GBP\":0.87053,\"KRW\":1367.1,\"MYR\":4.9096},\"base\":\"EUR\",\"date\":\"2021-02-26\"}'"
      ]
     },
     "execution_count": 6,
     "metadata": {},
     "output_type": "execute_result"
    }
   ],
   "source": [
    "response.text"
   ]
  },
  {
   "cell_type": "code",
   "execution_count": 7,
   "metadata": {},
   "outputs": [
    {
     "data": {
      "text/plain": [
       "b'{\"rates\":{\"CAD\":1.5331,\"HKD\":9.401,\"ISK\":152.9,\"PHP\":59.09,\"DKK\":7.4361,\"HUF\":361.43,\"CZK\":26.195,\"AUD\":1.5605,\"RON\":4.875,\"SEK\":10.1388,\"IDR\":17353.51,\"INR\":89.5766,\"BRL\":6.6644,\"RUB\":90.6697,\"HRK\":7.583,\"JPY\":128.83,\"THB\":36.799,\"CHF\":1.0986,\"SGD\":1.6106,\"PLN\":4.5186,\"BGN\":1.9558,\"TRY\":9.0168,\"CNY\":7.8385,\"NOK\":10.4012,\"NZD\":1.6622,\"ZAR\":18.1025,\"USD\":1.2121,\"MXN\":25.2879,\"ILS\":4.0072,\"GBP\":0.87053,\"KRW\":1367.1,\"MYR\":4.9096},\"base\":\"EUR\",\"date\":\"2021-02-26\"}'"
      ]
     },
     "execution_count": 7,
     "metadata": {},
     "output_type": "execute_result"
    }
   ],
   "source": [
    "response.content"
   ]
  },
  {
   "cell_type": "markdown",
   "metadata": {},
   "source": [
    "The 'requests' library provides us with the '.json()' method, which converts a JSON formatted response to a native Python object."
   ]
  },
  {
   "cell_type": "markdown",
   "metadata": {},
   "source": [
    "## Handling the JSON"
   ]
  },
  {
   "cell_type": "code",
   "execution_count": 8,
   "metadata": {},
   "outputs": [
    {
     "data": {
      "text/plain": [
       "<bound method Response.json of <Response [200]>>"
      ]
     },
     "execution_count": 8,
     "metadata": {},
     "output_type": "execute_result"
    }
   ],
   "source": [
    "response.json"
   ]
  },
  {
   "cell_type": "code",
   "execution_count": 9,
   "metadata": {},
   "outputs": [
    {
     "data": {
      "text/plain": [
       "dict"
      ]
     },
     "execution_count": 9,
     "metadata": {},
     "output_type": "execute_result"
    }
   ],
   "source": [
    "type(response.json())"
   ]
  },
  {
   "cell_type": "code",
   "execution_count": 10,
   "metadata": {},
   "outputs": [],
   "source": [
    "import json"
   ]
  },
  {
   "cell_type": "code",
   "execution_count": 11,
   "metadata": {},
   "outputs": [
    {
     "data": {
      "text/plain": [
       "'{\\n    \"rates\": {\\n        \"CAD\": 1.5331,\\n        \"HKD\": 9.401,\\n        \"ISK\": 152.9,\\n        \"PHP\": 59.09,\\n        \"DKK\": 7.4361,\\n        \"HUF\": 361.43,\\n        \"CZK\": 26.195,\\n        \"AUD\": 1.5605,\\n        \"RON\": 4.875,\\n        \"SEK\": 10.1388,\\n        \"IDR\": 17353.51,\\n        \"INR\": 89.5766,\\n        \"BRL\": 6.6644,\\n        \"RUB\": 90.6697,\\n        \"HRK\": 7.583,\\n        \"JPY\": 128.83,\\n        \"THB\": 36.799,\\n        \"CHF\": 1.0986,\\n        \"SGD\": 1.6106,\\n        \"PLN\": 4.5186,\\n        \"BGN\": 1.9558,\\n        \"TRY\": 9.0168,\\n        \"CNY\": 7.8385,\\n        \"NOK\": 10.4012,\\n        \"NZD\": 1.6622,\\n        \"ZAR\": 18.1025,\\n        \"USD\": 1.2121,\\n        \"MXN\": 25.2879,\\n        \"ILS\": 4.0072,\\n        \"GBP\": 0.87053,\\n        \"KRW\": 1367.1,\\n        \"MYR\": 4.9096\\n    },\\n    \"base\": \"EUR\",\\n    \"date\": \"2021-02-26\"\\n}'"
      ]
     },
     "execution_count": 11,
     "metadata": {},
     "output_type": "execute_result"
    }
   ],
   "source": [
    "json.dumps(response.json(), indent = 4)"
   ]
  },
  {
   "cell_type": "code",
   "execution_count": 12,
   "metadata": {},
   "outputs": [
    {
     "name": "stdout",
     "output_type": "stream",
     "text": [
      "{\n",
      "    \"rates\": {\n",
      "        \"CAD\": 1.5331,\n",
      "        \"HKD\": 9.401,\n",
      "        \"ISK\": 152.9,\n",
      "        \"PHP\": 59.09,\n",
      "        \"DKK\": 7.4361,\n",
      "        \"HUF\": 361.43,\n",
      "        \"CZK\": 26.195,\n",
      "        \"AUD\": 1.5605,\n",
      "        \"RON\": 4.875,\n",
      "        \"SEK\": 10.1388,\n",
      "        \"IDR\": 17353.51,\n",
      "        \"INR\": 89.5766,\n",
      "        \"BRL\": 6.6644,\n",
      "        \"RUB\": 90.6697,\n",
      "        \"HRK\": 7.583,\n",
      "        \"JPY\": 128.83,\n",
      "        \"THB\": 36.799,\n",
      "        \"CHF\": 1.0986,\n",
      "        \"SGD\": 1.6106,\n",
      "        \"PLN\": 4.5186,\n",
      "        \"BGN\": 1.9558,\n",
      "        \"TRY\": 9.0168,\n",
      "        \"CNY\": 7.8385,\n",
      "        \"NOK\": 10.4012,\n",
      "        \"NZD\": 1.6622,\n",
      "        \"ZAR\": 18.1025,\n",
      "        \"USD\": 1.2121,\n",
      "        \"MXN\": 25.2879,\n",
      "        \"ILS\": 4.0072,\n",
      "        \"GBP\": 0.87053,\n",
      "        \"KRW\": 1367.1,\n",
      "        \"MYR\": 4.9096\n",
      "    },\n",
      "    \"base\": \"EUR\",\n",
      "    \"date\": \"2021-02-26\"\n",
      "}\n"
     ]
    }
   ],
   "source": [
    "print(json.dumps(response.json(), indent = 4))"
   ]
  },
  {
   "cell_type": "code",
   "execution_count": 13,
   "metadata": {},
   "outputs": [
    {
     "data": {
      "text/plain": [
       "dict_keys(['rates', 'base', 'date'])"
      ]
     },
     "execution_count": 13,
     "metadata": {},
     "output_type": "execute_result"
    }
   ],
   "source": [
    "response.json().keys()"
   ]
  },
  {
   "cell_type": "markdown",
   "metadata": {},
   "source": [
    "So far, here I have managed to connect to the API, extract the response data and understand its contents."
   ]
  },
  {
   "cell_type": "markdown",
   "metadata": {},
   "source": [
    "## Incorporating parameters in the GET request"
   ]
  },
  {
   "cell_type": "code",
   "execution_count": 14,
   "metadata": {},
   "outputs": [
    {
     "data": {
      "text/plain": [
       "'https://api.exchangeratesapi.io/latest?symbols=USD,GBP'"
      ]
     },
     "execution_count": 14,
     "metadata": {},
     "output_type": "execute_result"
    }
   ],
   "source": [
    "param_url = base_url + \"?symbols=USD,GBP\"\n",
    "param_url"
   ]
  },
  {
   "cell_type": "code",
   "execution_count": 15,
   "metadata": {},
   "outputs": [
    {
     "data": {
      "text/plain": [
       "<Response [200]>"
      ]
     },
     "execution_count": 15,
     "metadata": {},
     "output_type": "execute_result"
    }
   ],
   "source": [
    "# Proceding to get request\n",
    "response = requests.get(param_url)\n",
    "response"
   ]
  },
  {
   "cell_type": "code",
   "execution_count": 16,
   "metadata": {},
   "outputs": [
    {
     "data": {
      "text/plain": [
       "{'rates': {'USD': 1.2121, 'GBP': 0.87053}, 'base': 'EUR', 'date': '2021-02-26'}"
      ]
     },
     "execution_count": 16,
     "metadata": {},
     "output_type": "execute_result"
    }
   ],
   "source": [
    "# Converting the json variable to the data\n",
    "data = response.json()\n",
    "data"
   ]
  },
  {
   "cell_type": "code",
   "execution_count": 17,
   "metadata": {},
   "outputs": [
    {
     "data": {
      "text/plain": [
       "'EUR'"
      ]
     },
     "execution_count": 17,
     "metadata": {},
     "output_type": "execute_result"
    }
   ],
   "source": [
    "data['base']"
   ]
  },
  {
   "cell_type": "code",
   "execution_count": 18,
   "metadata": {},
   "outputs": [
    {
     "data": {
      "text/plain": [
       "'2021-02-26'"
      ]
     },
     "execution_count": 18,
     "metadata": {},
     "output_type": "execute_result"
    }
   ],
   "source": [
    "data['date']"
   ]
  },
  {
   "cell_type": "code",
   "execution_count": 19,
   "metadata": {},
   "outputs": [
    {
     "data": {
      "text/plain": [
       "{'USD': 1.2121, 'GBP': 0.87053}"
      ]
     },
     "execution_count": 19,
     "metadata": {},
     "output_type": "execute_result"
    }
   ],
   "source": [
    "data['rates']"
   ]
  },
  {
   "cell_type": "code",
   "execution_count": 20,
   "metadata": {},
   "outputs": [
    {
     "data": {
      "text/plain": [
       "'https://api.exchangeratesapi.io/latest?symbols=GBP&base=USD'"
      ]
     },
     "execution_count": 20,
     "metadata": {},
     "output_type": "execute_result"
    }
   ],
   "source": [
    "param_url = base_url + '?symbols=GBP' + '&' + 'base=USD'\n",
    "param_url"
   ]
  },
  {
   "cell_type": "code",
   "execution_count": 21,
   "metadata": {},
   "outputs": [
    {
     "data": {
      "text/plain": [
       "{'rates': {'GBP': 0.7181998185}, 'base': 'USD', 'date': '2021-02-26'}"
      ]
     },
     "execution_count": 21,
     "metadata": {},
     "output_type": "execute_result"
    }
   ],
   "source": [
    "data = requests.get(param_url).json()\n",
    "data"
   ]
  },
  {
   "cell_type": "code",
   "execution_count": 22,
   "metadata": {},
   "outputs": [
    {
     "data": {
      "text/plain": [
       "0.7181998185"
      ]
     },
     "execution_count": 22,
     "metadata": {},
     "output_type": "execute_result"
    }
   ],
   "source": [
    "# To get the desire rate, we can access rates with desired currency key\n",
    "usd_to_gbp = data['rates']['GBP']\n",
    "usd_to_gbp"
   ]
  },
  {
   "cell_type": "markdown",
   "metadata": {},
   "source": [
    "# Obtaining historical exchange rates"
   ]
  },
  {
   "cell_type": "markdown",
   "metadata": {},
   "source": [
    "Here we will briefly explore the rest of the functionality provided by the 'exchange rates' API."
   ]
  },
  {
   "cell_type": "code",
   "execution_count": 23,
   "metadata": {},
   "outputs": [],
   "source": [
    "base_url = \"https://api.exchangeratesapi.io\""
   ]
  },
  {
   "cell_type": "code",
   "execution_count": 25,
   "metadata": {},
   "outputs": [
    {
     "data": {
      "text/plain": [
       "'https://api.exchangeratesapi.io/2021-01-26'"
      ]
     },
     "execution_count": 25,
     "metadata": {},
     "output_type": "execute_result"
    }
   ],
   "source": [
    "historical_url = base_url + \"/2021-01-26\"\n",
    "historical_url"
   ]
  },
  {
   "cell_type": "code",
   "execution_count": 26,
   "metadata": {},
   "outputs": [
    {
     "data": {
      "text/plain": [
       "200"
      ]
     },
     "execution_count": 26,
     "metadata": {},
     "output_type": "execute_result"
    }
   ],
   "source": [
    "response = requests.get(historical_url)\n",
    "response.status_code"
   ]
  },
  {
   "cell_type": "code",
   "execution_count": 27,
   "metadata": {},
   "outputs": [
    {
     "name": "stdout",
     "output_type": "stream",
     "text": [
      "{\n",
      "    \"rates\": {\n",
      "        \"CAD\": 1.5444,\n",
      "        \"HKD\": 9.4132,\n",
      "        \"ISK\": 157.0,\n",
      "        \"PHP\": 58.379,\n",
      "        \"DKK\": 7.439,\n",
      "        \"HUF\": 358.61,\n",
      "        \"CZK\": 26.08,\n",
      "        \"AUD\": 1.5709,\n",
      "        \"RON\": 4.8748,\n",
      "        \"SEK\": 10.0715,\n",
      "        \"IDR\": 17126.85,\n",
      "        \"INR\": 88.5555,\n",
      "        \"BRL\": 6.5816,\n",
      "        \"RUB\": 91.2538,\n",
      "        \"HRK\": 7.563,\n",
      "        \"JPY\": 125.93,\n",
      "        \"THB\": 36.405,\n",
      "        \"CHF\": 1.0789,\n",
      "        \"SGD\": 1.6099,\n",
      "        \"PLN\": 4.5465,\n",
      "        \"BGN\": 1.9558,\n",
      "        \"TRY\": 8.9269,\n",
      "        \"CNY\": 7.8537,\n",
      "        \"NOK\": 10.3873,\n",
      "        \"NZD\": 1.6793,\n",
      "        \"ZAR\": 18.4065,\n",
      "        \"USD\": 1.2143,\n",
      "        \"MXN\": 24.3386,\n",
      "        \"ILS\": 3.9692,\n",
      "        \"GBP\": 0.88698,\n",
      "        \"KRW\": 1339.51,\n",
      "        \"MYR\": 4.9161\n",
      "    },\n",
      "    \"base\": \"EUR\",\n",
      "    \"date\": \"2021-01-26\"\n",
      "}\n"
     ]
    }
   ],
   "source": [
    "data = response.json()\n",
    "print(json.dumps(data, indent=4))"
   ]
  },
  {
   "cell_type": "markdown",
   "metadata": {},
   "source": [
    "## Extracting data for a time period"
   ]
  },
  {
   "cell_type": "markdown",
   "metadata": {},
   "source": [
    "Often, we prefer to have information about a certain time period"
   ]
  },
  {
   "cell_type": "markdown",
   "metadata": {},
   "source": [
    "The URL is formed with: \"/history\", and the parameters \"start_at\" and \"end_at\"."
   ]
  },
  {
   "cell_type": "markdown",
   "metadata": {},
   "source": [
    "In order to reduce the clutter and save banwidth we will obtain only the exchange rate for the Pound Sterling."
   ]
  },
  {
   "cell_type": "code",
   "execution_count": 28,
   "metadata": {},
   "outputs": [
    {
     "data": {
      "text/plain": [
       "'https://api.exchangeratesapi.io/history?start_at=2019-04-26&end_at=2020-04-26&symbols=GBP'"
      ]
     },
     "execution_count": 28,
     "metadata": {},
     "output_type": "execute_result"
    }
   ],
   "source": [
    "time_period = base_url + \"/history\" + \"?start_at=2019-04-26&end_at=2020-04-26\" + \"&symbols=GBP\"\n",
    "time_period"
   ]
  },
  {
   "cell_type": "code",
   "execution_count": 29,
   "metadata": {},
   "outputs": [],
   "source": [
    "data = requests.get(time_period).json()"
   ]
  },
  {
   "cell_type": "code",
   "execution_count": 31,
   "metadata": {},
   "outputs": [
    {
     "name": "stdout",
     "output_type": "stream",
     "text": [
      "{\n",
      "    \"base\": \"EUR\",\n",
      "    \"end_at\": \"2020-04-26\",\n",
      "    \"rates\": {\n",
      "        \"2019-04-26\": {\n",
      "            \"GBP\": 0.8634\n",
      "        },\n",
      "        \"2019-04-29\": {\n",
      "            \"GBP\": 0.8634\n",
      "        },\n",
      "        \"2019-04-30\": {\n",
      "            \"GBP\": 0.86248\n",
      "        },\n",
      "        \"2019-05-02\": {\n",
      "            \"GBP\": 0.8593\n",
      "        },\n",
      "        \"2019-05-03\": {\n",
      "            \"GBP\": 0.85785\n",
      "        },\n",
      "        \"2019-05-06\": {\n",
      "            \"GBP\": 0.8547\n",
      "        },\n",
      "        \"2019-05-07\": {\n",
      "            \"GBP\": 0.85645\n",
      "        },\n",
      "        \"2019-05-08\": {\n",
      "            \"GBP\": 0.86095\n",
      "        },\n",
      "        \"2019-05-09\": {\n",
      "            \"GBP\": 0.8612\n",
      "        },\n",
      "        \"2019-05-10\": {\n",
      "            \"GBP\": 0.8625\n",
      "        },\n",
      "        \"2019-05-13\": {\n",
      "            \"GBP\": 0.8635\n",
      "        },\n",
      "        \"2019-05-14\": {\n",
      "            \"GBP\": 0.86723\n",
      "        },\n",
      "        \"2019-05-15\": {\n",
      "            \"GBP\": 0.8682\n",
      "        },\n",
      "        \"2019-05-16\": {\n",
      "            \"GBP\": 0.87463\n",
      "        },\n",
      "        \"2019-05-17\": {\n",
      "            \"GBP\": 0.87595\n",
      "        },\n",
      "        \"2019-05-20\": {\n",
      "            \"GBP\": 0.8762\n",
      "        },\n",
      "        \"2019-05-21\": {\n",
      "            \"GBP\": 0.8761\n",
      "        },\n",
      "        \"2019-05-22\": {\n",
      "            \"GBP\": 0.8828\n",
      "        },\n",
      "        \"2019-05-23\": {\n",
      "            \"GBP\": 0.881\n",
      "        },\n",
      "        \"2019-05-24\": {\n",
      "            \"GBP\": 0.88318\n",
      "        },\n",
      "        \"2019-05-27\": {\n",
      "            \"GBP\": 0.88225\n",
      "        },\n",
      "        \"2019-05-28\": {\n",
      "            \"GBP\": 0.88373\n",
      "        },\n",
      "        \"2019-05-29\": {\n",
      "            \"GBP\": 0.88225\n",
      "        },\n",
      "        \"2019-05-30\": {\n",
      "            \"GBP\": 0.88178\n",
      "        },\n",
      "        \"2019-05-31\": {\n",
      "            \"GBP\": 0.88693\n",
      "        },\n",
      "        \"2019-06-03\": {\n",
      "            \"GBP\": 0.88618\n",
      "        },\n",
      "        \"2019-06-04\": {\n",
      "            \"GBP\": 0.88738\n",
      "        },\n",
      "        \"2019-06-05\": {\n",
      "            \"GBP\": 0.88631\n",
      "        },\n",
      "        \"2019-06-06\": {\n",
      "            \"GBP\": 0.88558\n",
      "        },\n",
      "        \"2019-06-07\": {\n",
      "            \"GBP\": 0.88675\n",
      "        },\n",
      "        \"2019-06-10\": {\n",
      "            \"GBP\": 0.89248\n",
      "        },\n",
      "        \"2019-06-11\": {\n",
      "            \"GBP\": 0.89085\n",
      "        },\n",
      "        \"2019-06-12\": {\n",
      "            \"GBP\": 0.88805\n",
      "        },\n",
      "        \"2019-06-13\": {\n",
      "            \"GBP\": 0.88948\n",
      "        },\n",
      "        \"2019-06-14\": {\n",
      "            \"GBP\": 0.89093\n",
      "        },\n",
      "        \"2019-06-17\": {\n",
      "            \"GBP\": 0.89208\n",
      "        },\n",
      "        \"2019-06-18\": {\n",
      "            \"GBP\": 0.89403\n",
      "        },\n",
      "        \"2019-06-19\": {\n",
      "            \"GBP\": 0.8902\n",
      "        },\n",
      "        \"2019-06-20\": {\n",
      "            \"GBP\": 0.89155\n",
      "        },\n",
      "        \"2019-06-21\": {\n",
      "            \"GBP\": 0.89425\n",
      "        },\n",
      "        \"2019-06-24\": {\n",
      "            \"GBP\": 0.89365\n",
      "        },\n",
      "        \"2019-06-25\": {\n",
      "            \"GBP\": 0.89485\n",
      "        },\n",
      "        \"2019-06-26\": {\n",
      "            \"GBP\": 0.89603\n",
      "        },\n",
      "        \"2019-06-27\": {\n",
      "            \"GBP\": 0.89428\n",
      "        },\n",
      "        \"2019-06-28\": {\n",
      "            \"GBP\": 0.89655\n",
      "        },\n",
      "        \"2019-07-01\": {\n",
      "            \"GBP\": 0.89718\n",
      "        },\n",
      "        \"2019-07-02\": {\n",
      "            \"GBP\": 0.89443\n",
      "        },\n",
      "        \"2019-07-03\": {\n",
      "            \"GBP\": 0.8975\n",
      "        },\n",
      "        \"2019-07-04\": {\n",
      "            \"GBP\": 0.8973\n",
      "        },\n",
      "        \"2019-07-05\": {\n",
      "            \"GBP\": 0.89703\n",
      "        },\n",
      "        \"2019-07-08\": {\n",
      "            \"GBP\": 0.89625\n",
      "        },\n",
      "        \"2019-07-09\": {\n",
      "            \"GBP\": 0.89975\n",
      "        },\n",
      "        \"2019-07-10\": {\n",
      "            \"GBP\": 0.89928\n",
      "        },\n",
      "        \"2019-07-11\": {\n",
      "            \"GBP\": 0.8979\n",
      "        },\n",
      "        \"2019-07-12\": {\n",
      "            \"GBP\": 0.89788\n",
      "        },\n",
      "        \"2019-07-15\": {\n",
      "            \"GBP\": 0.89873\n",
      "        },\n",
      "        \"2019-07-16\": {\n",
      "            \"GBP\": 0.9026\n",
      "        },\n",
      "        \"2019-07-17\": {\n",
      "            \"GBP\": 0.9034\n",
      "        },\n",
      "        \"2019-07-18\": {\n",
      "            \"GBP\": 0.89853\n",
      "        },\n",
      "        \"2019-07-19\": {\n",
      "            \"GBP\": 0.89635\n",
      "        },\n",
      "        \"2019-07-22\": {\n",
      "            \"GBP\": 0.89968\n",
      "        },\n",
      "        \"2019-07-23\": {\n",
      "            \"GBP\": 0.8983\n",
      "        },\n",
      "        \"2019-07-24\": {\n",
      "            \"GBP\": 0.89143\n",
      "        },\n",
      "        \"2019-07-25\": {\n",
      "            \"GBP\": 0.88963\n",
      "        },\n",
      "        \"2019-07-26\": {\n",
      "            \"GBP\": 0.89633\n",
      "        },\n",
      "        \"2019-07-29\": {\n",
      "            \"GBP\": 0.90443\n",
      "        },\n",
      "        \"2019-07-30\": {\n",
      "            \"GBP\": 0.91653\n",
      "        },\n",
      "        \"2019-07-31\": {\n",
      "            \"GBP\": 0.91623\n",
      "        },\n",
      "        \"2019-08-01\": {\n",
      "            \"GBP\": 0.9115\n",
      "        },\n",
      "        \"2019-08-02\": {\n",
      "            \"GBP\": 0.91505\n",
      "        },\n",
      "        \"2019-08-05\": {\n",
      "            \"GBP\": 0.9188\n",
      "        },\n",
      "        \"2019-08-06\": {\n",
      "            \"GBP\": 0.9183\n",
      "        },\n",
      "        \"2019-08-07\": {\n",
      "            \"GBP\": 0.92353\n",
      "        },\n",
      "        \"2019-08-08\": {\n",
      "            \"GBP\": 0.92115\n",
      "        },\n",
      "        \"2019-08-09\": {\n",
      "            \"GBP\": 0.9282\n",
      "        },\n",
      "        \"2019-08-12\": {\n",
      "            \"GBP\": 0.92615\n",
      "        },\n",
      "        \"2019-08-13\": {\n",
      "            \"GBP\": 0.9283\n",
      "        },\n",
      "        \"2019-08-14\": {\n",
      "            \"GBP\": 0.92673\n",
      "        },\n",
      "        \"2019-08-15\": {\n",
      "            \"GBP\": 0.91863\n",
      "        },\n",
      "        \"2019-08-16\": {\n",
      "            \"GBP\": 0.91033\n",
      "        },\n",
      "        \"2019-08-19\": {\n",
      "            \"GBP\": 0.91583\n",
      "        },\n",
      "        \"2019-08-20\": {\n",
      "            \"GBP\": 0.91623\n",
      "        },\n",
      "        \"2019-08-21\": {\n",
      "            \"GBP\": 0.91545\n",
      "        },\n",
      "        \"2019-08-22\": {\n",
      "            \"GBP\": 0.9115\n",
      "        },\n",
      "        \"2019-08-23\": {\n",
      "            \"GBP\": 0.90453\n",
      "        },\n",
      "        \"2019-08-26\": {\n",
      "            \"GBP\": 0.90808\n",
      "        },\n",
      "        \"2019-08-27\": {\n",
      "            \"GBP\": 0.90435\n",
      "        },\n",
      "        \"2019-08-28\": {\n",
      "            \"GBP\": 0.90823\n",
      "        },\n",
      "        \"2019-08-29\": {\n",
      "            \"GBP\": 0.90531\n",
      "        },\n",
      "        \"2019-08-30\": {\n",
      "            \"GBP\": 0.90565\n",
      "        },\n",
      "        \"2019-09-02\": {\n",
      "            \"GBP\": 0.9082\n",
      "        },\n",
      "        \"2019-09-03\": {\n",
      "            \"GBP\": 0.90885\n",
      "        },\n",
      "        \"2019-09-04\": {\n",
      "            \"GBP\": 0.90255\n",
      "        },\n",
      "        \"2019-09-05\": {\n",
      "            \"GBP\": 0.8958\n",
      "        },\n",
      "        \"2019-09-06\": {\n",
      "            \"GBP\": 0.89635\n",
      "        },\n",
      "        \"2019-09-09\": {\n",
      "            \"GBP\": 0.89275\n",
      "        },\n",
      "        \"2019-09-10\": {\n",
      "            \"GBP\": 0.893\n",
      "        },\n",
      "        \"2019-09-11\": {\n",
      "            \"GBP\": 0.89133\n",
      "        },\n",
      "        \"2019-09-12\": {\n",
      "            \"GBP\": 0.8892\n",
      "        },\n",
      "        \"2019-09-13\": {\n",
      "            \"GBP\": 0.89093\n",
      "        },\n",
      "        \"2019-09-16\": {\n",
      "            \"GBP\": 0.8851\n",
      "        },\n",
      "        \"2019-09-17\": {\n",
      "            \"GBP\": 0.88813\n",
      "        },\n",
      "        \"2019-09-18\": {\n",
      "            \"GBP\": 0.8872\n",
      "        },\n",
      "        \"2019-09-19\": {\n",
      "            \"GBP\": 0.88735\n",
      "        },\n",
      "        \"2019-09-20\": {\n",
      "            \"GBP\": 0.8823\n",
      "        },\n",
      "        \"2019-09-23\": {\n",
      "            \"GBP\": 0.88343\n",
      "        },\n",
      "        \"2019-09-24\": {\n",
      "            \"GBP\": 0.88153\n",
      "        },\n",
      "        \"2019-09-25\": {\n",
      "            \"GBP\": 0.88668\n",
      "        },\n",
      "        \"2019-09-26\": {\n",
      "            \"GBP\": 0.88505\n",
      "        },\n",
      "        \"2019-09-27\": {\n",
      "            \"GBP\": 0.88778\n",
      "        },\n",
      "        \"2019-09-30\": {\n",
      "            \"GBP\": 0.88573\n",
      "        },\n",
      "        \"2019-10-01\": {\n",
      "            \"GBP\": 0.88955\n",
      "        },\n",
      "        \"2019-10-02\": {\n",
      "            \"GBP\": 0.8897\n",
      "        },\n",
      "        \"2019-10-03\": {\n",
      "            \"GBP\": 0.8879\n",
      "        },\n",
      "        \"2019-10-04\": {\n",
      "            \"GBP\": 0.89045\n",
      "        },\n",
      "        \"2019-10-07\": {\n",
      "            \"GBP\": 0.89155\n",
      "        },\n",
      "        \"2019-10-08\": {\n",
      "            \"GBP\": 0.89795\n",
      "        },\n",
      "        \"2019-10-09\": {\n",
      "            \"GBP\": 0.8985\n",
      "        },\n",
      "        \"2019-10-10\": {\n",
      "            \"GBP\": 0.90155\n",
      "        },\n",
      "        \"2019-10-11\": {\n",
      "            \"GBP\": 0.87518\n",
      "        },\n",
      "        \"2019-10-14\": {\n",
      "            \"GBP\": 0.87983\n",
      "        },\n",
      "        \"2019-10-15\": {\n",
      "            \"GBP\": 0.87058\n",
      "        },\n",
      "        \"2019-10-16\": {\n",
      "            \"GBP\": 0.8656\n",
      "        },\n",
      "        \"2019-10-17\": {\n",
      "            \"GBP\": 0.8684\n",
      "        },\n",
      "        \"2019-10-18\": {\n",
      "            \"GBP\": 0.86435\n",
      "        },\n",
      "        \"2019-10-21\": {\n",
      "            \"GBP\": 0.8593\n",
      "        },\n",
      "        \"2019-10-22\": {\n",
      "            \"GBP\": 0.86065\n",
      "        },\n",
      "        \"2019-10-23\": {\n",
      "            \"GBP\": 0.86408\n",
      "        },\n",
      "        \"2019-10-24\": {\n",
      "            \"GBP\": 0.86288\n",
      "        },\n",
      "        \"2019-10-25\": {\n",
      "            \"GBP\": 0.86598\n",
      "        },\n",
      "        \"2019-10-28\": {\n",
      "            \"GBP\": 0.86328\n",
      "        },\n",
      "        \"2019-10-29\": {\n",
      "            \"GBP\": 0.86328\n",
      "        },\n",
      "        \"2019-10-30\": {\n",
      "            \"GBP\": 0.862\n",
      "        },\n",
      "        \"2019-10-31\": {\n",
      "            \"GBP\": 0.86133\n",
      "        },\n",
      "        \"2019-11-01\": {\n",
      "            \"GBP\": 0.86008\n",
      "        },\n",
      "        \"2019-11-04\": {\n",
      "            \"GBP\": 0.86368\n",
      "        },\n",
      "        \"2019-11-05\": {\n",
      "            \"GBP\": 0.86113\n",
      "        },\n",
      "        \"2019-11-06\": {\n",
      "            \"GBP\": 0.86033\n",
      "        },\n",
      "        \"2019-11-07\": {\n",
      "            \"GBP\": 0.86442\n",
      "        },\n",
      "        \"2019-11-08\": {\n",
      "            \"GBP\": 0.86158\n",
      "        },\n",
      "        \"2019-11-11\": {\n",
      "            \"GBP\": 0.85743\n",
      "        },\n",
      "        \"2019-11-12\": {\n",
      "            \"GBP\": 0.8582\n",
      "        },\n",
      "        \"2019-11-13\": {\n",
      "            \"GBP\": 0.8576\n",
      "        },\n",
      "        \"2019-11-14\": {\n",
      "            \"GBP\": 0.85643\n",
      "        },\n",
      "        \"2019-11-15\": {\n",
      "            \"GBP\": 0.8566\n",
      "        },\n",
      "        \"2019-11-18\": {\n",
      "            \"GBP\": 0.8533\n",
      "        },\n",
      "        \"2019-11-19\": {\n",
      "            \"GBP\": 0.85573\n",
      "        },\n",
      "        \"2019-11-20\": {\n",
      "            \"GBP\": 0.85715\n",
      "        },\n",
      "        \"2019-11-21\": {\n",
      "            \"GBP\": 0.85548\n",
      "        },\n",
      "        \"2019-11-22\": {\n",
      "            \"GBP\": 0.8598\n",
      "        },\n",
      "        \"2019-11-25\": {\n",
      "            \"GBP\": 0.85515\n",
      "        },\n",
      "        \"2019-11-26\": {\n",
      "            \"GBP\": 0.85715\n",
      "        },\n",
      "        \"2019-11-27\": {\n",
      "            \"GBP\": 0.8545\n",
      "        },\n",
      "        \"2019-11-28\": {\n",
      "            \"GBP\": 0.8518\n",
      "        },\n",
      "        \"2019-11-29\": {\n",
      "            \"GBP\": 0.85225\n",
      "        },\n",
      "        \"2019-12-02\": {\n",
      "            \"GBP\": 0.85218\n",
      "        },\n",
      "        \"2019-12-03\": {\n",
      "            \"GBP\": 0.852\n",
      "        },\n",
      "        \"2019-12-04\": {\n",
      "            \"GBP\": 0.8461\n",
      "        },\n",
      "        \"2019-12-05\": {\n",
      "            \"GBP\": 0.8447\n",
      "        },\n",
      "        \"2019-12-06\": {\n",
      "            \"GBP\": 0.84453\n",
      "        },\n",
      "        \"2019-12-09\": {\n",
      "            \"GBP\": 0.84195\n",
      "        },\n",
      "        \"2019-12-10\": {\n",
      "            \"GBP\": 0.84073\n",
      "        },\n",
      "        \"2019-12-11\": {\n",
      "            \"GBP\": 0.84245\n",
      "        },\n",
      "        \"2019-12-12\": {\n",
      "            \"GBP\": 0.8456\n",
      "        },\n",
      "        \"2019-12-13\": {\n",
      "            \"GBP\": 0.83508\n",
      "        },\n",
      "        \"2019-12-16\": {\n",
      "            \"GBP\": 0.83415\n",
      "        },\n",
      "        \"2019-12-17\": {\n",
      "            \"GBP\": 0.84748\n",
      "        },\n",
      "        \"2019-12-18\": {\n",
      "            \"GBP\": 0.85055\n",
      "        },\n",
      "        \"2019-12-19\": {\n",
      "            \"GBP\": 0.85073\n",
      "        },\n",
      "        \"2019-12-20\": {\n",
      "            \"GBP\": 0.85133\n",
      "        },\n",
      "        \"2019-12-23\": {\n",
      "            \"GBP\": 0.85708\n",
      "        },\n",
      "        \"2019-12-24\": {\n",
      "            \"GBP\": 0.85533\n",
      "        },\n",
      "        \"2019-12-27\": {\n",
      "            \"GBP\": 0.8513\n",
      "        },\n",
      "        \"2019-12-30\": {\n",
      "            \"GBP\": 0.85208\n",
      "        },\n",
      "        \"2019-12-31\": {\n",
      "            \"GBP\": 0.8508\n",
      "        },\n",
      "        \"2020-01-02\": {\n",
      "            \"GBP\": 0.84828\n",
      "        },\n",
      "        \"2020-01-03\": {\n",
      "            \"GBP\": 0.85115\n",
      "        },\n",
      "        \"2020-01-06\": {\n",
      "            \"GBP\": 0.85215\n",
      "        },\n",
      "        \"2020-01-07\": {\n",
      "            \"GBP\": 0.85183\n",
      "        },\n",
      "        \"2020-01-08\": {\n",
      "            \"GBP\": 0.84868\n",
      "        },\n",
      "        \"2020-01-09\": {\n",
      "            \"GBP\": 0.85285\n",
      "        },\n",
      "        \"2020-01-10\": {\n",
      "            \"GBP\": 0.8481\n",
      "        },\n",
      "        \"2020-01-13\": {\n",
      "            \"GBP\": 0.8576\n",
      "        },\n",
      "        \"2020-01-14\": {\n",
      "            \"GBP\": 0.85618\n",
      "        },\n",
      "        \"2020-01-15\": {\n",
      "            \"GBP\": 0.85683\n",
      "        },\n",
      "        \"2020-01-16\": {\n",
      "            \"GBP\": 0.8547\n",
      "        },\n",
      "        \"2020-01-17\": {\n",
      "            \"GBP\": 0.85105\n",
      "        },\n",
      "        \"2020-01-20\": {\n",
      "            \"GBP\": 0.85275\n",
      "        },\n",
      "        \"2020-01-21\": {\n",
      "            \"GBP\": 0.8503\n",
      "        },\n",
      "        \"2020-01-22\": {\n",
      "            \"GBP\": 0.84445\n",
      "        },\n",
      "        \"2020-01-23\": {\n",
      "            \"GBP\": 0.84498\n",
      "        },\n",
      "        \"2020-01-24\": {\n",
      "            \"GBP\": 0.84313\n",
      "        },\n",
      "        \"2020-01-27\": {\n",
      "            \"GBP\": 0.84358\n",
      "        },\n",
      "        \"2020-01-28\": {\n",
      "            \"GBP\": 0.84603\n",
      "        },\n",
      "        \"2020-01-29\": {\n",
      "            \"GBP\": 0.8458\n",
      "        },\n",
      "        \"2020-01-30\": {\n",
      "            \"GBP\": 0.84183\n",
      "        },\n",
      "        \"2020-01-31\": {\n",
      "            \"GBP\": 0.84175\n",
      "        },\n",
      "        \"2020-02-03\": {\n",
      "            \"GBP\": 0.84775\n",
      "        },\n",
      "        \"2020-02-04\": {\n",
      "            \"GBP\": 0.8488\n",
      "        },\n",
      "        \"2020-02-05\": {\n",
      "            \"GBP\": 0.84444\n",
      "        },\n",
      "        \"2020-02-06\": {\n",
      "            \"GBP\": 0.84835\n",
      "        },\n",
      "        \"2020-02-07\": {\n",
      "            \"GBP\": 0.8472\n",
      "        },\n",
      "        \"2020-02-10\": {\n",
      "            \"GBP\": 0.84628\n",
      "        },\n",
      "        \"2020-02-11\": {\n",
      "            \"GBP\": 0.84325\n",
      "        },\n",
      "        \"2020-02-12\": {\n",
      "            \"GBP\": 0.84058\n",
      "        },\n",
      "        \"2020-02-13\": {\n",
      "            \"GBP\": 0.83375\n",
      "        },\n",
      "        \"2020-02-14\": {\n",
      "            \"GBP\": 0.83208\n",
      "        },\n",
      "        \"2020-02-17\": {\n",
      "            \"GBP\": 0.83238\n",
      "        },\n",
      "        \"2020-02-18\": {\n",
      "            \"GBP\": 0.82985\n",
      "        },\n",
      "        \"2020-02-19\": {\n",
      "            \"GBP\": 0.83148\n",
      "        },\n",
      "        \"2020-02-20\": {\n",
      "            \"GBP\": 0.8384\n",
      "        },\n",
      "        \"2020-02-21\": {\n",
      "            \"GBP\": 0.8351\n",
      "        },\n",
      "        \"2020-02-24\": {\n",
      "            \"GBP\": 0.83833\n",
      "        },\n",
      "        \"2020-02-25\": {\n",
      "            \"GBP\": 0.8363\n",
      "        },\n",
      "        \"2020-02-26\": {\n",
      "            \"GBP\": 0.8415\n",
      "        },\n",
      "        \"2020-02-27\": {\n",
      "            \"GBP\": 0.84995\n",
      "        },\n",
      "        \"2020-02-28\": {\n",
      "            \"GBP\": 0.85315\n",
      "        },\n",
      "        \"2020-03-02\": {\n",
      "            \"GBP\": 0.87113\n",
      "        },\n",
      "        \"2020-03-03\": {\n",
      "            \"GBP\": 0.8701\n",
      "        },\n",
      "        \"2020-03-04\": {\n",
      "            \"GBP\": 0.8685\n",
      "        },\n",
      "        \"2020-03-05\": {\n",
      "            \"GBP\": 0.8667\n",
      "        },\n",
      "        \"2020-03-06\": {\n",
      "            \"GBP\": 0.87165\n",
      "        },\n",
      "        \"2020-03-09\": {\n",
      "            \"GBP\": 0.87383\n",
      "        },\n",
      "        \"2020-03-10\": {\n",
      "            \"GBP\": 0.87385\n",
      "        },\n",
      "        \"2020-03-11\": {\n",
      "            \"GBP\": 0.8769\n",
      "        },\n",
      "        \"2020-03-12\": {\n",
      "            \"GBP\": 0.88623\n",
      "        },\n",
      "        \"2020-03-13\": {\n",
      "            \"GBP\": 0.8907\n",
      "        },\n",
      "        \"2020-03-16\": {\n",
      "            \"GBP\": 0.90918\n",
      "        },\n",
      "        \"2020-03-17\": {\n",
      "            \"GBP\": 0.90823\n",
      "        },\n",
      "        \"2020-03-18\": {\n",
      "            \"GBP\": 0.9219\n",
      "        },\n",
      "        \"2020-03-19\": {\n",
      "            \"GBP\": 0.92985\n",
      "        },\n",
      "        \"2020-03-20\": {\n",
      "            \"GBP\": 0.91028\n",
      "        },\n",
      "        \"2020-03-23\": {\n",
      "            \"GBP\": 0.9297\n",
      "        },\n",
      "        \"2020-03-24\": {\n",
      "            \"GBP\": 0.921\n",
      "        },\n",
      "        \"2020-03-25\": {\n",
      "            \"GBP\": 0.91503\n",
      "        },\n",
      "        \"2020-03-26\": {\n",
      "            \"GBP\": 0.91348\n",
      "        },\n",
      "        \"2020-03-27\": {\n",
      "            \"GBP\": 0.89743\n",
      "        },\n",
      "        \"2020-03-30\": {\n",
      "            \"GBP\": 0.889\n",
      "        },\n",
      "        \"2020-03-31\": {\n",
      "            \"GBP\": 0.88643\n",
      "        },\n",
      "        \"2020-04-01\": {\n",
      "            \"GBP\": 0.8846\n",
      "        },\n",
      "        \"2020-04-02\": {\n",
      "            \"GBP\": 0.87738\n",
      "        },\n",
      "        \"2020-04-03\": {\n",
      "            \"GBP\": 0.8785\n",
      "        },\n",
      "        \"2020-04-06\": {\n",
      "            \"GBP\": 0.878\n",
      "        },\n",
      "        \"2020-04-07\": {\n",
      "            \"GBP\": 0.88093\n",
      "        },\n",
      "        \"2020-04-08\": {\n",
      "            \"GBP\": 0.87948\n",
      "        },\n",
      "        \"2020-04-09\": {\n",
      "            \"GBP\": 0.87565\n",
      "        },\n",
      "        \"2020-04-14\": {\n",
      "            \"GBP\": 0.87253\n",
      "        },\n",
      "        \"2020-04-15\": {\n",
      "            \"GBP\": 0.87385\n",
      "        },\n",
      "        \"2020-04-16\": {\n",
      "            \"GBP\": 0.87163\n",
      "        },\n",
      "        \"2020-04-17\": {\n",
      "            \"GBP\": 0.86978\n",
      "        },\n",
      "        \"2020-04-20\": {\n",
      "            \"GBP\": 0.87343\n",
      "        },\n",
      "        \"2020-04-21\": {\n",
      "            \"GBP\": 0.8812\n",
      "        },\n",
      "        \"2020-04-22\": {\n",
      "            \"GBP\": 0.8792\n",
      "        },\n",
      "        \"2020-04-23\": {\n",
      "            \"GBP\": 0.872\n",
      "        },\n",
      "        \"2020-04-24\": {\n",
      "            \"GBP\": 0.87498\n",
      "        }\n",
      "    },\n",
      "    \"start_at\": \"2019-04-26\"\n",
      "}\n"
     ]
    }
   ],
   "source": [
    "print(json.dumps(data, indent=4, sort_keys=True))"
   ]
  },
  {
   "cell_type": "markdown",
   "metadata": {},
   "source": [
    "## Testing the API response to incorrect input"
   ]
  },
  {
   "cell_type": "code",
   "execution_count": 32,
   "metadata": {},
   "outputs": [],
   "source": [
    "invalid_url = base_url + \"/2020-13-01\""
   ]
  },
  {
   "cell_type": "markdown",
   "metadata": {},
   "source": [
    "The HyperText Transfer Protocol (HTTP) 400 Bad Request response status code indicates that the server cannot or will not process the request due to something that is perceived to be a client error (e.g., malformed request syntax, invalid request message framing, or deceptive request routing)."
   ]
  },
  {
   "cell_type": "code",
   "execution_count": 34,
   "metadata": {},
   "outputs": [
    {
     "data": {
      "text/plain": [
       "400"
      ]
     },
     "execution_count": 34,
     "metadata": {},
     "output_type": "execute_result"
    }
   ],
   "source": [
    "response = requests.get(invalid_url)\n",
    "response.status_code"
   ]
  },
  {
   "cell_type": "markdown",
   "metadata": {},
   "source": [
    "The <customErrors> element under system. web in web. config is used to configure error code to a custom page. It can be used to configure custom pages for any error code 4xx or 5xx. However, it cannot be used to log exception or perform any other action on exception."
   ]
  },
  {
   "cell_type": "code",
   "execution_count": 35,
   "metadata": {},
   "outputs": [
    {
     "data": {
      "text/plain": [
       "{'error': \"time data '2020-13-01' does not match format '%Y-%m-%d'\"}"
      ]
     },
     "execution_count": 35,
     "metadata": {},
     "output_type": "execute_result"
    }
   ],
   "source": [
    "response.json()"
   ]
  },
  {
   "cell_type": "markdown",
   "metadata": {},
   "source": [
    "## Creating a simple currency convertor"
   ]
  },
  {
   "cell_type": "markdown",
   "metadata": {},
   "source": [
    "The parameters we need here are date, base currency, target currency and quantity to convert."
   ]
  },
  {
   "cell_type": "code",
   "execution_count": 39,
   "metadata": {},
   "outputs": [
    {
     "name": "stdout",
     "output_type": "stream",
     "text": [
      "Please enter the date (in the format 'yyy-mm-dd' or 'latest'): 2019-07-03\n",
      "convert from (currency): GBP\n",
      "convert to (currency): USD\n",
      "How much GBP do you want to convert: 26\n",
      "\n",
      "26.0 GBP is equal to 32.715097492999995 USD, based upon exchange rates on 2019-07-03\n"
     ]
    }
   ],
   "source": [
    "date = input(\"Please enter the date (in the format 'yyy-mm-dd' or 'latest'): \")\n",
    "base = input(\"convert from (currency): \")\n",
    "curr = input(\"convert to (currency): \")\n",
    "quan = float(input(\"How much {} do you want to convert: \".format(base)))\n",
    "\n",
    "url = base_url + \"/\" + date + \"?base=\" + base + \"&symbols=\" + curr\n",
    "response = requests.get(url)\n",
    "\n",
    "if(response.ok is False):\n",
    "    print(\"\\nError {}:\".format(response.status_code))\n",
    "    print(response.json()['error'])\n",
    "    \n",
    "else:\n",
    "    data = response.json()\n",
    "    rate = data['rates'][curr]\n",
    "    \n",
    "    result = quan*rate\n",
    "    \n",
    "    print(\"\\n{0} {1} is equal to {2} {3}, based upon exchange rates on {4}\".format(quan, base, result, curr, data['date']))"
   ]
  },
  {
   "cell_type": "markdown",
   "metadata": {},
   "source": [
    "# Another example: The iTunes search API"
   ]
  },
  {
   "cell_type": "markdown",
   "metadata": {},
   "source": [
    "## Passing parameters in the request"
   ]
  },
  {
   "cell_type": "code",
   "execution_count": 40,
   "metadata": {},
   "outputs": [],
   "source": [
    "base_site = \"https://itunes.apple.com/search\""
   ]
  },
  {
   "cell_type": "code",
   "execution_count": 41,
   "metadata": {},
   "outputs": [
    {
     "data": {
      "text/plain": [
       "<Response [200]>"
      ]
     },
     "execution_count": 41,
     "metadata": {},
     "output_type": "execute_result"
    }
   ],
   "source": [
    "url = base_site + \"?term=the+beatles&country=us\"\n",
    "\n",
    "requests.get(url)"
   ]
  },
  {
   "cell_type": "code",
   "execution_count": 42,
   "metadata": {},
   "outputs": [
    {
     "data": {
      "text/plain": [
       "200"
      ]
     },
     "execution_count": 42,
     "metadata": {},
     "output_type": "execute_result"
    }
   ],
   "source": [
    "r = requests.get(base_site, params = {\"term\": \"the beatles\", \"country\": \"us\"})\n",
    "r.status_code"
   ]
  },
  {
   "cell_type": "code",
   "execution_count": 43,
   "metadata": {},
   "outputs": [
    {
     "data": {
      "text/plain": [
       "'https://itunes.apple.com/search?term=the+beatles&country=us'"
      ]
     },
     "execution_count": 43,
     "metadata": {},
     "output_type": "execute_result"
    }
   ],
   "source": [
    "r.url"
   ]
  },
  {
   "cell_type": "markdown",
   "metadata": {},
   "source": [
    "## Investigating the output and parameters"
   ]
  },
  {
   "cell_type": "code",
   "execution_count": null,
   "metadata": {},
   "outputs": [],
   "source": []
  }
 ],
 "metadata": {
  "kernelspec": {
   "display_name": "Python 3",
   "language": "python",
   "name": "python3"
  },
  "language_info": {
   "codemirror_mode": {
    "name": "ipython",
    "version": 3
   },
   "file_extension": ".py",
   "mimetype": "text/x-python",
   "name": "python",
   "nbconvert_exporter": "python",
   "pygments_lexer": "ipython3",
   "version": "3.8.3"
  }
 },
 "nbformat": 4,
 "nbformat_minor": 4
}
